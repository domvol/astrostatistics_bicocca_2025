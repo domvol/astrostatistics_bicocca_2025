{
 "cells": [
  {
   "cell_type": "markdown",
   "metadata": {},
   "source": [
    "## Monte Carlo integration"
   ]
  },
  {
   "cell_type": "code",
   "execution_count": 52,
   "metadata": {},
   "outputs": [
    {
     "name": "stdout",
     "output_type": "stream",
     "text": [
      "Valore dell'integrale: 101.53521048097124\n"
     ]
    }
   ],
   "source": [
    "import numpy as np\n",
    "sigma = 2.0\n",
    "# Numero di campioni\n",
    "N = 100000\n",
    "x_samples = np.random.normal(0, sigma, N)\n",
    "#take only positive samples\n",
    "x_samples = x_samples[x_samples > 0]\n",
    "# Calcola f(x) per ciascun campione x\n",
    "\n",
    "def compute_fx(x_samples, sigma):\n",
    "    return x_samples**3 * np.exp(-x_samples**2 / (2 * sigma**2))\n",
    "\n",
    "f_x = compute_fx(x_samples, sigma)\n",
    "\n",
    "# Calcola l'integrale usando l'integrazione Monte Carlo\n",
    "integral = np.mean(f_x) * (2 * sigma**4)\n",
    "\n",
    "print(f\"Valore dell'integrale: {integral}\")"
   ]
  }
 ],
 "metadata": {
  "kernelspec": {
   "display_name": "my_env",
   "language": "python",
   "name": "python3"
  },
  "language_info": {
   "codemirror_mode": {
    "name": "ipython",
    "version": 3
   },
   "file_extension": ".py",
   "mimetype": "text/x-python",
   "name": "python",
   "nbconvert_exporter": "python",
   "pygments_lexer": "ipython3",
   "version": "3.13.0"
  }
 },
 "nbformat": 4,
 "nbformat_minor": 2
}
