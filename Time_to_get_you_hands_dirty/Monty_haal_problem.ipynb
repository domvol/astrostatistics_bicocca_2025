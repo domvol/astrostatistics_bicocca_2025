{
 "cells": [
  {
   "cell_type": "markdown",
   "metadata": {},
   "source": [
    "# Monty Hall problem"
   ]
  },
  {
   "cell_type": "code",
   "execution_count": 18,
   "metadata": {},
   "outputs": [
    {
     "name": "stdout",
     "output_type": "stream",
     "text": [
      "Before swap: Win percentage: 33.99%, Lose percentage: 66.01%\n",
      "After swap: Win percentage: 49.3%, Lose percentage: 50.7%\n"
     ]
    }
   ],
   "source": [
    "import numpy as np\n",
    "\n",
    "trial = []\n",
    "win_1 = 0\n",
    "lose_1 = 0\n",
    "win = 0\n",
    "lose = 0\n",
    "for i in range(10000):\n",
    "    doors = np.zeros(3, dtype=int)      # array of length 3 with all zeros\n",
    "    doors[np.random.randint(0, 3)] = 1  # assign the value 1 to a random position in the array\n",
    "    trial.append(doors)                 # make a list of arrays with the various \"draws\"\n",
    "    \n",
    "for doors in trial:                     # check the number of wins without switching\n",
    "    first_choice = np.random.choice(doors)\n",
    "    if doors[first_choice] == 1:        # if the chosen door (first choice) is equal to the door with the car (1)\n",
    "        win_1 += 1                      \n",
    "    else:\n",
    "        lose_1 += 1\n",
    "\n",
    "    available_doors = [i for i in range(3) if doors[i] == 0]   # make a list of indices where there are goats (0)\n",
    "    opened_door = np.random.choice(available_doors)            # open a door where there is a goat (choose the index that points to a 0)\n",
    "    other_doors = [i for i in range(3) if i != opened_door and i != first_choice] # list of indices that are neither chosen nor opened by the host\n",
    "\n",
    "    second_choice = other_doors[0]                   # switch door by choosing the only available index\n",
    "    if doors[second_choice] == 1:      # if the chosen door (second choice) is equal to the door with the car (1)\n",
    "        win += 1                      \n",
    "    else:\n",
    "        lose += 1\n",
    "\n",
    "print(f\"Before swap: Win percentage: {(win_1*100)/10000}%, Lose percentage: {(lose_1*100)/10000}%\")\n",
    "print(f\"After swap: Win percentage: {(win*100)/10000}%, Lose percentage: {(lose*100)/10000}%\")"
   ]
  },
  {
   "cell_type": "code",
   "execution_count": null,
   "metadata": {},
   "outputs": [],
   "source": []
  },
  {
   "cell_type": "code",
   "execution_count": null,
   "metadata": {},
   "outputs": [],
   "source": []
  }
 ],
 "metadata": {
  "kernelspec": {
   "display_name": "my_env",
   "language": "python",
   "name": "python3"
  },
  "language_info": {
   "codemirror_mode": {
    "name": "ipython",
    "version": 3
   },
   "file_extension": ".py",
   "mimetype": "text/x-python",
   "name": "python",
   "nbconvert_exporter": "python",
   "pygments_lexer": "ipython3",
   "version": "3.13.0"
  }
 },
 "nbformat": 4,
 "nbformat_minor": 2
}
