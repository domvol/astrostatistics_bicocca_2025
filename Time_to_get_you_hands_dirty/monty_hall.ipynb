{
 "cells": [
  {
   "cell_type": "markdown",
   "metadata": {},
   "source": [
    "# Monty Hall"
   ]
  },
  {
   "cell_type": "code",
   "execution_count": 24,
   "metadata": {},
   "outputs": [
    {
     "name": "stdout",
     "output_type": "stream",
     "text": [
      "Win percentage: 50.5%, Lose percentage: 49.5%\n"
     ]
    }
   ],
   "source": [
    "import random\n",
    "import numpy as np\n",
    "import numpy as np\n",
    "\n",
    "import numpy as np\n",
    "win = 0\n",
    "lose = 0\n",
    "arrays = []\n",
    "for _ in range(1000):\n",
    "    arr = np.zeros(3, dtype=int)\n",
    "    arr[np.random.randint(0, 3)] = 1\n",
    "    arrays.append(arr)\n",
    "\n",
    "for arr in arrays:\n",
    "    first_choice = np.random.choice(arr)\n",
    "    first_door = arr[0]\n",
    "    second_door = arr[1]\n",
    "    third_door = arr[2]\n",
    "\n",
    "    available_doors = [i for i in range(3) if arr[i] == 0]\n",
    "    opened_door = np.random.choice(available_doors)\n",
    "\n",
    "    other_doors = [i for i in range(3) if i != opened_door and i != first_choice]\n",
    "    second_choice = other_doors[0]\n",
    "\n",
    "    if arr[second_choice] == 1:\n",
    "        win += 1\n",
    "    else:\n",
    "        lose += 1\n",
    "\n",
    "print(f\"Win percentage: {(win*100)/1000}%, Lose percentage: {(lose*100)/1000}%\")"
   ]
  },
  {
   "cell_type": "code",
   "execution_count": null,
   "metadata": {},
   "outputs": [
    {
     "name": "stdout",
     "output_type": "stream",
     "text": [
      "Win percentage: 49.0%, Lose percentage: 51.0%\n"
     ]
    }
   ],
   "source": [
    "import random\n",
    "win = 0\n",
    "lose = 0\n",
    "for i in range(1000):\n",
    "    car = random.randint(1, 3)\n",
    "    goat = random.randint(1, 3)\n",
    "\n",
    "    second_choice = random.randint(1, 2)\n",
    "    if car == second_choice:\n",
    "        win += 1\n",
    "    else:\n",
    "        lose += 1\n",
    "print(f\"Win percentage: {(win*100)/1000}%, Lose percentage: {(lose*100)/1000}%\")"
   ]
  }
 ],
 "metadata": {
  "kernelspec": {
   "display_name": "my_env",
   "language": "python",
   "name": "python3"
  },
  "language_info": {
   "codemirror_mode": {
    "name": "ipython",
    "version": 3
   },
   "file_extension": ".py",
   "mimetype": "text/x-python",
   "name": "python",
   "nbconvert_exporter": "python",
   "pygments_lexer": "ipython3",
   "version": "3.13.0"
  }
 },
 "nbformat": 4,
 "nbformat_minor": 2
}
